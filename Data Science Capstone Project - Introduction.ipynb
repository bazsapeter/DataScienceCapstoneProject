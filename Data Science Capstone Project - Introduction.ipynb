{
 "cells": [
  {
   "cell_type": "markdown",
   "metadata": {},
   "source": [
    "# Data Science Capstone Project\n",
    "\n",
    "## Segmenting the Crossfit Boxes in Budapest"
   ]
  },
  {
   "cell_type": "markdown",
   "metadata": {},
   "source": [
    "### What is Crossfit?\n",
    "\n",
    "Crossfit is a relatively new fitness direction, basically functional fitness where the goal is to prepare your body for any physical challenge. Originally, it started as a licensed brand, and it started spreading across the world later. It includes nearly every kind of sport, from the olympic wightlifting, through gymnastic skills, running, endurance tests etc. This sport is done in places called Boxes. These are not like regular gyms, they need special floor, special equipment, therefore this functional fitness cannot be done everywhere."
   ]
  },
  {
   "cell_type": "markdown",
   "metadata": {},
   "source": [
    "### Crossfit in Hungary, Budapest\n",
    "\n",
    "Crossfit was established in Hungary in the early 2013 with only a few boxes. There is a difference between the original Crossfit Boxes and the other places, so called Cross-training gyms. The main difference is the name, therefore the brand that it represents. Only those boxes, who bought the license can use the name Crossfit. In this project, I only investigate the licensed boxes, because these are the traditional Crossfit Boxes."
   ]
  },
  {
   "cell_type": "markdown",
   "metadata": {},
   "source": [
    "### Business Understanding\n",
    "\n",
    "The main purpose of this project is to reveal the potential places in Budapest, Hungary where a Crossfit Box can be started. There are many neighborhood with the proper condition for establishing a Crossfit Box, some of them already have one. This investigation will reveal the common attributes between these, and also tries to find other, similar neighborhoods.\n",
    "\n",
    "The true questions is: Is it possible to predict the potential places for the new Crossfit Boxes based on only the location data?\n",
    "\n",
    "This project will give answer for the question above for those who are thinking about establishing a Crossfit Box in Budapest.\n"
   ]
  },
  {
   "cell_type": "markdown",
   "metadata": {},
   "source": [
    "### Methodology\n",
    "\n",
    "To reach the goal, first and foremost, I needed a dataset, which contains the Budapest neighborhood coordinations. Thanks to the Geolocator API, there is no need for a dataset which contains them explicitly, I just need the proper names of the neighborhoods. With the following webpage: https://en.wikipedia.org/wiki/List_of_districts_in_Budapest and a little transormation on these is enough to fulfill this requirement. After these coordinations are claimed, the Foursquare API will give the data regarding the user feedback for each neighborhood."
   ]
  },
  {
   "cell_type": "markdown",
   "metadata": {},
   "source": [
    "After this, to check the pattern of the Crossfit Boxes attributions, firstly the name of the licensed Crossfit Boxes are needed, then the same logic will be applied as before."
   ]
  },
  {
   "cell_type": "markdown",
   "metadata": {},
   "source": [
    "From this point, the model can clearly decide which neighborhood is similar to a Crossfit Box and we can create recommendations regarding the position of the new one."
   ]
  }
 ],
 "metadata": {
  "kernelspec": {
   "display_name": "Python 3",
   "language": "python",
   "name": "python3"
  },
  "language_info": {
   "codemirror_mode": {
    "name": "ipython",
    "version": 3
   },
   "file_extension": ".py",
   "mimetype": "text/x-python",
   "name": "python",
   "nbconvert_exporter": "python",
   "pygments_lexer": "ipython3",
   "version": "3.7.4"
  }
 },
 "nbformat": 4,
 "nbformat_minor": 2
}
